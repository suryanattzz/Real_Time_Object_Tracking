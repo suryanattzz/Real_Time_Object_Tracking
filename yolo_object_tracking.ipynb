{
 "cells": [
  {
   "cell_type": "markdown",
   "id": "9bca4151-eb70-4398-be7b-3c04e7a8596e",
   "metadata": {},
   "source": [
    "# Import Required Libraries\n"
   ]
  },
  {
   "cell_type": "code",
   "execution_count": 2,
   "id": "05c405d2-fdc8-4976-a606-b99472588339",
   "metadata": {},
   "outputs": [],
   "source": [
    "import cv2\n",
    "from ultralytics import YOLO"
   ]
  },
  {
   "cell_type": "markdown",
   "id": "688014b4-f45d-4b0b-a70e-afa0af28863b",
   "metadata": {},
   "source": [
    "# Load the YOLO Model"
   ]
  },
  {
   "cell_type": "code",
   "execution_count": 4,
   "id": "fa2eefa1-23e5-45ef-9b28-ecebc037c349",
   "metadata": {},
   "outputs": [],
   "source": [
    "yolo = YOLO('yolov8s.pt')"
   ]
  },
  {
   "cell_type": "markdown",
   "id": "e02e12f4-42b5-4445-80df-dcf2ef1609b8",
   "metadata": {},
   "source": [
    "# Start Video Capture"
   ]
  },
  {
   "cell_type": "code",
   "execution_count": 6,
   "id": "235faaba-0cf4-45a0-822b-5d8eb5a8b92a",
   "metadata": {},
   "outputs": [],
   "source": [
    "videoCap = cv2.VideoCapture(0)"
   ]
  },
  {
   "cell_type": "markdown",
   "id": "cf88284c-034f-4f33-bcb8-f6293329fcff",
   "metadata": {},
   "source": [
    "# Define a Function to Assign Colors to Classes"
   ]
  },
  {
   "cell_type": "code",
   "execution_count": 8,
   "id": "fd068b6c-4100-4c03-b254-fceb78c5e564",
   "metadata": {},
   "outputs": [],
   "source": [
    "def getColours(cls_num):\n",
    "    base_colors = [(255, 0, 0), (0, 255, 0), (0, 0, 255)]\n",
    "    color_index = cls_num % len(base_colors)\n",
    "    increments = [(1, -2, 1), (-2, 1, -1), (1, -1, 2)]\n",
    "    color = [base_colors[color_index][i] + increments[color_index][i] * \n",
    "    (cls_num // len(base_colors)) % 256 for i in range(3)]\n",
    "    return tuple(color)\n"
   ]
  },
  {
   "cell_type": "markdown",
   "id": "e84976ef-9aa8-41f7-8a62-0307a7fb4847",
   "metadata": {},
   "source": [
    "#  Start Video Stream & Run YOLO Tracking"
   ]
  },
  {
   "cell_type": "code",
   "execution_count": 10,
   "id": "653acc42-9350-49cf-836b-0c447e9045ce",
   "metadata": {},
   "outputs": [
    {
     "name": "stdout",
     "output_type": "stream",
     "text": [
      "\n",
      "0: 480x640 2 persons, 281.5ms\n",
      "Speed: 2.3ms preprocess, 281.5ms inference, 2.3ms postprocess per image at shape (1, 3, 480, 640)\n",
      "\n",
      "0: 480x640 1 person, 1 chair, 1 refrigerator, 254.4ms\n",
      "Speed: 3.0ms preprocess, 254.4ms inference, 1.0ms postprocess per image at shape (1, 3, 480, 640)\n",
      "\n",
      "0: 480x640 1 person, 2 chairs, 251.1ms\n",
      "Speed: 1.0ms preprocess, 251.1ms inference, 2.0ms postprocess per image at shape (1, 3, 480, 640)\n",
      "\n",
      "0: 480x640 1 person, 2 chairs, 244.9ms\n",
      "Speed: 2.0ms preprocess, 244.9ms inference, 1.0ms postprocess per image at shape (1, 3, 480, 640)\n",
      "\n",
      "0: 480x640 1 person, 2 chairs, 1 refrigerator, 212.4ms\n",
      "Speed: 2.0ms preprocess, 212.4ms inference, 1.0ms postprocess per image at shape (1, 3, 480, 640)\n",
      "\n",
      "0: 480x640 1 person, 2 chairs, 1 refrigerator, 211.2ms\n",
      "Speed: 1.0ms preprocess, 211.2ms inference, 1.0ms postprocess per image at shape (1, 3, 480, 640)\n",
      "\n",
      "0: 480x640 1 person, 2 chairs, 1 refrigerator, 209.8ms\n",
      "Speed: 2.5ms preprocess, 209.8ms inference, 1.0ms postprocess per image at shape (1, 3, 480, 640)\n",
      "\n",
      "0: 480x640 1 person, 2 chairs, 1 refrigerator, 221.3ms\n",
      "Speed: 2.0ms preprocess, 221.3ms inference, 2.0ms postprocess per image at shape (1, 3, 480, 640)\n",
      "\n",
      "0: 480x640 1 person, 2 chairs, 1 refrigerator, 208.3ms\n",
      "Speed: 2.0ms preprocess, 208.3ms inference, 1.0ms postprocess per image at shape (1, 3, 480, 640)\n",
      "\n",
      "0: 480x640 1 person, 2 chairs, 1 refrigerator, 210.6ms\n",
      "Speed: 2.0ms preprocess, 210.6ms inference, 1.0ms postprocess per image at shape (1, 3, 480, 640)\n",
      "\n",
      "0: 480x640 1 person, 2 chairs, 218.3ms\n",
      "Speed: 3.0ms preprocess, 218.3ms inference, 1.0ms postprocess per image at shape (1, 3, 480, 640)\n",
      "\n",
      "0: 480x640 1 person, 2 chairs, 1 refrigerator, 210.9ms\n",
      "Speed: 2.0ms preprocess, 210.9ms inference, 1.0ms postprocess per image at shape (1, 3, 480, 640)\n",
      "\n",
      "0: 480x640 1 person, 2 chairs, 1 refrigerator, 210.9ms\n",
      "Speed: 2.0ms preprocess, 210.9ms inference, 1.0ms postprocess per image at shape (1, 3, 480, 640)\n",
      "\n",
      "0: 480x640 1 person, 2 chairs, 210.4ms\n",
      "Speed: 3.0ms preprocess, 210.4ms inference, 1.0ms postprocess per image at shape (1, 3, 480, 640)\n",
      "\n",
      "0: 480x640 1 person, 3 chairs, 1 refrigerator, 211.2ms\n",
      "Speed: 3.0ms preprocess, 211.2ms inference, 1.0ms postprocess per image at shape (1, 3, 480, 640)\n",
      "\n",
      "0: 480x640 1 person, 2 chairs, 1 refrigerator, 210.5ms\n",
      "Speed: 3.0ms preprocess, 210.5ms inference, 1.0ms postprocess per image at shape (1, 3, 480, 640)\n",
      "\n",
      "0: 480x640 1 person, 2 chairs, 1 refrigerator, 227.7ms\n",
      "Speed: 2.0ms preprocess, 227.7ms inference, 1.0ms postprocess per image at shape (1, 3, 480, 640)\n",
      "\n",
      "0: 480x640 1 person, 1 chair, 1 refrigerator, 245.1ms\n",
      "Speed: 2.0ms preprocess, 245.1ms inference, 1.0ms postprocess per image at shape (1, 3, 480, 640)\n",
      "\n",
      "0: 480x640 1 person, 2 chairs, 229.7ms\n",
      "Speed: 3.0ms preprocess, 229.7ms inference, 1.0ms postprocess per image at shape (1, 3, 480, 640)\n",
      "\n",
      "0: 480x640 1 person, 1 chair, 1 refrigerator, 223.2ms\n",
      "Speed: 2.0ms preprocess, 223.2ms inference, 1.0ms postprocess per image at shape (1, 3, 480, 640)\n",
      "\n",
      "0: 480x640 1 person, 1 chair, 1 refrigerator, 222.5ms\n",
      "Speed: 2.0ms preprocess, 222.5ms inference, 1.0ms postprocess per image at shape (1, 3, 480, 640)\n",
      "\n",
      "0: 480x640 1 person, 2 chairs, 1 refrigerator, 221.6ms\n",
      "Speed: 2.0ms preprocess, 221.6ms inference, 1.0ms postprocess per image at shape (1, 3, 480, 640)\n",
      "\n",
      "0: 480x640 1 person, 2 chairs, 225.1ms\n",
      "Speed: 2.0ms preprocess, 225.1ms inference, 1.0ms postprocess per image at shape (1, 3, 480, 640)\n",
      "\n",
      "0: 480x640 1 person, 3 chairs, 1 refrigerator, 214.7ms\n",
      "Speed: 3.0ms preprocess, 214.7ms inference, 1.0ms postprocess per image at shape (1, 3, 480, 640)\n",
      "\n",
      "0: 480x640 1 person, 2 chairs, 1 refrigerator, 229.6ms\n",
      "Speed: 2.0ms preprocess, 229.6ms inference, 2.0ms postprocess per image at shape (1, 3, 480, 640)\n",
      "\n",
      "0: 480x640 1 person, 2 chairs, 1 refrigerator, 210.2ms\n",
      "Speed: 2.0ms preprocess, 210.2ms inference, 1.0ms postprocess per image at shape (1, 3, 480, 640)\n",
      "\n",
      "0: 480x640 1 person, 1 chair, 1 refrigerator, 212.4ms\n",
      "Speed: 1.0ms preprocess, 212.4ms inference, 1.0ms postprocess per image at shape (1, 3, 480, 640)\n",
      "\n",
      "0: 480x640 1 person, 2 chairs, 1 refrigerator, 213.0ms\n",
      "Speed: 3.0ms preprocess, 213.0ms inference, 1.0ms postprocess per image at shape (1, 3, 480, 640)\n",
      "\n",
      "0: 480x640 1 person, 2 chairs, 1 refrigerator, 214.5ms\n",
      "Speed: 2.0ms preprocess, 214.5ms inference, 1.0ms postprocess per image at shape (1, 3, 480, 640)\n",
      "\n",
      "0: 480x640 1 person, 1 chair, 1 refrigerator, 209.1ms\n",
      "Speed: 2.0ms preprocess, 209.1ms inference, 1.0ms postprocess per image at shape (1, 3, 480, 640)\n",
      "\n",
      "0: 480x640 1 person, 1 chair, 1 refrigerator, 218.0ms\n",
      "Speed: 2.0ms preprocess, 218.0ms inference, 1.0ms postprocess per image at shape (1, 3, 480, 640)\n",
      "\n",
      "0: 480x640 1 person, 225.0ms\n",
      "Speed: 4.0ms preprocess, 225.0ms inference, 1.0ms postprocess per image at shape (1, 3, 480, 640)\n",
      "\n",
      "0: 480x640 1 person, 1 chair, 1 refrigerator, 234.4ms\n",
      "Speed: 2.0ms preprocess, 234.4ms inference, 1.0ms postprocess per image at shape (1, 3, 480, 640)\n",
      "\n",
      "0: 480x640 1 person, 1 chair, 1 refrigerator, 250.9ms\n",
      "Speed: 3.0ms preprocess, 250.9ms inference, 1.0ms postprocess per image at shape (1, 3, 480, 640)\n",
      "\n",
      "0: 480x640 1 person, 1 chair, 234.1ms\n",
      "Speed: 2.0ms preprocess, 234.1ms inference, 2.0ms postprocess per image at shape (1, 3, 480, 640)\n",
      "\n",
      "0: 480x640 1 person, 1 chair, 1 refrigerator, 238.0ms\n",
      "Speed: 2.1ms preprocess, 238.0ms inference, 1.0ms postprocess per image at shape (1, 3, 480, 640)\n",
      "\n",
      "0: 480x640 1 person, 1 chair, 1 refrigerator, 250.1ms\n",
      "Speed: 2.0ms preprocess, 250.1ms inference, 2.0ms postprocess per image at shape (1, 3, 480, 640)\n",
      "\n",
      "0: 480x640 1 person, 1 chair, 222.1ms\n",
      "Speed: 2.0ms preprocess, 222.1ms inference, 1.0ms postprocess per image at shape (1, 3, 480, 640)\n",
      "\n",
      "0: 480x640 1 person, 1 chair, 1 refrigerator, 221.3ms\n",
      "Speed: 2.0ms preprocess, 221.3ms inference, 1.0ms postprocess per image at shape (1, 3, 480, 640)\n",
      "\n",
      "0: 480x640 1 person, 1 chair, 1 refrigerator, 224.5ms\n",
      "Speed: 1.0ms preprocess, 224.5ms inference, 2.0ms postprocess per image at shape (1, 3, 480, 640)\n"
     ]
    }
   ],
   "source": [
    "while True:\n",
    "    ret, frame = videoCap.read()\n",
    "    if not ret:\n",
    "        continue\n",
    "\n",
    "    # Perform object tracking\n",
    "    results = yolo.track(frame, stream=True)\n",
    "\n",
    "    for result in results:\n",
    "        classes_names = result.names\n",
    "\n",
    "        for box in result.boxes:\n",
    "            if box.conf[0] > 0.4:  # Confidence threshold (40%)\n",
    "                \n",
    "                x1, y1, x2, y2 = int(box.xyxy[0][0]), int(box.xyxy[0][1]), int(box.xyxy[0][2]), int(box.xyxy[0][3])\n",
    "\n",
    "                cls = int(box.cls[0])\n",
    "                class_name = classes_names[cls]\n",
    "                colour = getColours(cls)\n",
    "\n",
    "                cv2.rectangle(frame, (x1, y1), (x2, y2), colour, 2)\n",
    "                \n",
    "                cv2.putText(frame, f'{class_name} {box.conf[0]:.2f}', (x1, y1 - 10),\n",
    "                            cv2.FONT_HERSHEY_SIMPLEX, 1, colour, 2)\n",
    "\n",
    "    # Display the frame\n",
    "    cv2.imshow('Object Tracking', frame)\n",
    "\n",
    "    # Press 'q' to exit the loop\n",
    "    if cv2.waitKey(1) & 0xFF == ord('q'):\n",
    "        break\n"
   ]
  },
  {
   "cell_type": "markdown",
   "id": "7f7b0e09-d963-45d9-b005-146cad4354f7",
   "metadata": {},
   "source": [
    "# Cleanup"
   ]
  },
  {
   "cell_type": "code",
   "execution_count": 12,
   "id": "1449571b-3d5a-42ae-bd09-b71618638548",
   "metadata": {},
   "outputs": [],
   "source": [
    "videoCap.release()\n",
    "cv2.destroyAllWindows()"
   ]
  },
  {
   "cell_type": "code",
   "execution_count": null,
   "id": "2efef11a-40e1-4918-8437-e6d66c36be6f",
   "metadata": {},
   "outputs": [],
   "source": []
  }
 ],
 "metadata": {
  "kernelspec": {
   "display_name": "Python 3 (ipykernel)",
   "language": "python",
   "name": "python3"
  },
  "language_info": {
   "codemirror_mode": {
    "name": "ipython",
    "version": 3
   },
   "file_extension": ".py",
   "mimetype": "text/x-python",
   "name": "python",
   "nbconvert_exporter": "python",
   "pygments_lexer": "ipython3",
   "version": "3.12.7"
  }
 },
 "nbformat": 4,
 "nbformat_minor": 5
}
